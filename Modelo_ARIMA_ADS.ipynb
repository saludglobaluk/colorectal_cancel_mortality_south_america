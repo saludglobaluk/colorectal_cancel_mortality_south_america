{
  "cells": [
    {
      "cell_type": "code",
      "execution_count": 1,
      "metadata": {
        "id": "V4R_adJWppn3"
      },
      "outputs": [],
      "source": [
        "PAIS='Total'"
      ]
    },
    {
      "cell_type": "markdown",
      "metadata": {
        "id": "hm3nejoq5Qcl"
      },
      "source": [
        "ARIMA y ARIMA Estacional\n",
        "\n",
        "Medias móviles integradas autorregresivas\n",
        "El proceso general para los modelos ARIMA es el siguiente:\n",
        "\n",
        "Visualice los datos de la serie temporal\n",
        "Hacer que los datos de la serie temporal sean estacionarios\n",
        "Trazar los gráficos de correlación y autocorrelación\n",
        "Construya el modelo ARIMA o ARIMA estacional basado en los datos\n",
        "Usar el modelo para hacer predicciones"
      ]
    },
    {
      "cell_type": "markdown",
      "metadata": {
        "id": "l0rqMrRJ7tCQ"
      },
      "source": [
        "Llama a las Librerias"
      ]
    },
    {
      "cell_type": "markdown",
      "metadata": {
        "id": "uxGo9z4g2Jwu"
      },
      "source": [
        "ARIMA Procesos Autoregresivos, Invertible y de media móvil. \n",
        "El proceso general para los modelos ARIMA es el siguiente:\n",
        "\n",
        "Visualice los datos de la serie temporal\n",
        "Hacer que los datos de la serie temporal sean estacionarios\n",
        "Trazar los gráficos de correlación y autocorrelación\n",
        "Construya el modelo ARIMA o ARIMA estacional basado en los datos\n",
        "Usar el modelo para hacer predicciones\n"
      ]
    },
    {
      "cell_type": "markdown",
      "metadata": {
        "id": "LrqenY7o3IP5"
      },
      "source": [
        "Este primer módulo se encarga de llamar librerias y les coloco otro nombre. "
      ]
    },
    {
      "cell_type": "code",
      "execution_count": 2,
      "metadata": {
        "id": "vN5mWIvO6BOt"
      },
      "outputs": [],
      "source": [
        "#***********************************************************************************************************************************************\n",
        "#Programa: Modelo_ARIMA_Argentina_ADS.ipynb                                                                                                    *\n",
        "#Lenguaje: Python en ambiente Google Colab                                                                                                     *\n",
        "#Utilidad: Uso de la Metodología Box-Jenkins ARIMA para modelar y estimar Series de tiempo de las defunciones de Paises de América del Sur     *\n",
        "#Realizado por: Instituto Salud Global de la Universidad Argentina John F. Kennedy.                                                            *\n",
        "#Programadores: Ernesto Freiberg y Alvin Correa                                                                                                  *\n",
        "#Observaciones:                                                                                                                                *\n",
        "#***********************************************************************************************************************************************\n",
        "import numpy as np\n",
        "import pandas as pd\n",
        "import scipy.stats as stats\n",
        "import matplotlib.pyplot as plt\n",
        "import statsmodels.api as sm\n",
        "import math\n",
        "\n",
        "from statsmodels.tsa.arima.model import ARIMA\n",
        "from statsmodels.tsa.stattools import adfuller\n",
        "from statsmodels.graphics.tsaplots import plot_acf,plot_pacf\n",
        "\n",
        "%matplotlib inline"
      ]
    },
    {
      "cell_type": "code",
      "execution_count": 3,
      "metadata": {
        "colab": {
          "base_uri": "https://localhost:8080/"
        },
        "id": "nnhfM7HphUkL",
        "outputId": "21824cc5-5bb9-4b66-a2b8-39dfca8c06cf"
      },
      "outputs": [
        {
          "output_type": "stream",
          "name": "stdout",
          "text": [
            "Paises disponibles:\n"
          ]
        },
        {
          "output_type": "execute_result",
          "data": {
            "text/plain": [
              "0     Argentina\n",
              "1       Bolivia\n",
              "2        Brasil\n",
              "3         Chile\n",
              "4      Colombia\n",
              "5       Ecuador\n",
              "6      Paraguay\n",
              "7          Peru\n",
              "8         Total\n",
              "9       Uruguay\n",
              "10    Venezuela\n",
              "Name: PAIS, dtype: object"
            ]
          },
          "metadata": {},
          "execution_count": 3
        }
      ],
      "source": [
        "paises = pd.read_excel('https://github.com/saludglobaluk/colorectal_cancel_mortality_south_america/blob/main/data/Index.xlsx?raw=true')\n",
        "print('Paises disponibles:')\n",
        "paises.PAIS"
      ]
    },
    {
      "cell_type": "markdown",
      "metadata": {
        "id": "43aPKgfo3jyz"
      },
      "source": [
        "Llama el archivo Excel. "
      ]
    },
    {
      "cell_type": "code",
      "execution_count": 4,
      "metadata": {
        "id": "U7RWLHFgtqFK"
      },
      "outputs": [],
      "source": [
        "def import_excel(pais):\n",
        "  of = pd.read_excel(paises.loc[paises['PAIS'] == pais, 'DATOS'].values[0])\n",
        "  of.columns = ['year','deaths']\n",
        "  of[['year', 'deaths']] = of[['year', 'deaths']].astype(int)\n",
        "  return of.set_index(\"year\")\n",
        "  \n",
        "#Realiza el Contraste de hipótesis de Dickey-Fuller\n",
        "#Ho: La Serie no es estacionaria\n",
        "#H1: La Serie es estacionaria\n",
        "def adfuller_test(deaths):\n",
        "  result = adfuller(deaths)\n",
        "  \n",
        "  labels = ['ADF Test Statistic','p-value','#Lags Used','Number of Observations Used']\n",
        "  \n",
        "  for value,label in zip(result, labels):\n",
        "      print(label+' : '+str(value) )\n",
        "\n",
        "  if result[1] <= 0.05:\n",
        "      print(\"Existe fuerte evidencia en contra de la hipótesis nula (Ho). Se rechaza la hipótesis nula. Los datos no tienen raíz unitaria y son estacionarios\")\n",
        "  else:\n",
        "      print(\"Existe evidencia débil contra la hipótesis nula, la serie de tiempo tiene una raíz unitaria, lo que indica que no es estacionaria \")\n",
        "\n",
        "#Realiza el Contraste de hipótesis de Jarque-Bera\n",
        "#Ho: La Serie no es estacionaria\n",
        "#H1: La Serie es estacionaria\n",
        "def jarquebera_test(deaths):\n",
        "  result = stats.jarque_bera(deaths)\n",
        "\n",
        "  labels = ['JB Test Statistic','p-value','#Lags Used','Number of Observations Used']\n",
        "\n",
        "  for value,label in zip(result, labels):\n",
        "    print(label+' : '+str(value) )\n",
        "\n",
        "  if result[1] <= 0.05:\n",
        "      print(\"Existe fuerte evidencia en contra de la hipótesis nula (Ho). Se rechaza la hipótesis nula. Los datos no son estacionarios en promedio\")\n",
        "  else:\n",
        "      print(\"Existe evidencia débil contra la hipótesis nula, lo que indica que no es estacionaria en promedio\")\n"
      ]
    },
    {
      "cell_type": "code",
      "execution_count": null,
      "metadata": {
        "colab": {
          "base_uri": "https://localhost:8080/",
          "height": 238
        },
        "id": "Jdgt2Svm8sds",
        "outputId": "53fa498e-0c10-412d-c307-4acc8f643773"
      },
      "outputs": [
        {
          "output_type": "execute_result",
          "data": {
            "text/plain": [
              "      deaths\n",
              "year        \n",
              "1990   17518\n",
              "1991   17939\n",
              "1992   18732\n",
              "1993   19644\n",
              "1994   20339"
            ],
            "text/html": [
              "\n",
              "  <div id=\"df-dc20dab5-2864-4196-b7c4-631f7713739c\">\n",
              "    <div class=\"colab-df-container\">\n",
              "      <div>\n",
              "<style scoped>\n",
              "    .dataframe tbody tr th:only-of-type {\n",
              "        vertical-align: middle;\n",
              "    }\n",
              "\n",
              "    .dataframe tbody tr th {\n",
              "        vertical-align: top;\n",
              "    }\n",
              "\n",
              "    .dataframe thead th {\n",
              "        text-align: right;\n",
              "    }\n",
              "</style>\n",
              "<table border=\"1\" class=\"dataframe\">\n",
              "  <thead>\n",
              "    <tr style=\"text-align: right;\">\n",
              "      <th></th>\n",
              "      <th>deaths</th>\n",
              "    </tr>\n",
              "    <tr>\n",
              "      <th>year</th>\n",
              "      <th></th>\n",
              "    </tr>\n",
              "  </thead>\n",
              "  <tbody>\n",
              "    <tr>\n",
              "      <th>1990</th>\n",
              "      <td>17518</td>\n",
              "    </tr>\n",
              "    <tr>\n",
              "      <th>1991</th>\n",
              "      <td>17939</td>\n",
              "    </tr>\n",
              "    <tr>\n",
              "      <th>1992</th>\n",
              "      <td>18732</td>\n",
              "    </tr>\n",
              "    <tr>\n",
              "      <th>1993</th>\n",
              "      <td>19644</td>\n",
              "    </tr>\n",
              "    <tr>\n",
              "      <th>1994</th>\n",
              "      <td>20339</td>\n",
              "    </tr>\n",
              "  </tbody>\n",
              "</table>\n",
              "</div>\n",
              "      <button class=\"colab-df-convert\" onclick=\"convertToInteractive('df-dc20dab5-2864-4196-b7c4-631f7713739c')\"\n",
              "              title=\"Convert this dataframe to an interactive table.\"\n",
              "              style=\"display:none;\">\n",
              "        \n",
              "  <svg xmlns=\"http://www.w3.org/2000/svg\" height=\"24px\"viewBox=\"0 0 24 24\"\n",
              "       width=\"24px\">\n",
              "    <path d=\"M0 0h24v24H0V0z\" fill=\"none\"/>\n",
              "    <path d=\"M18.56 5.44l.94 2.06.94-2.06 2.06-.94-2.06-.94-.94-2.06-.94 2.06-2.06.94zm-11 1L8.5 8.5l.94-2.06 2.06-.94-2.06-.94L8.5 2.5l-.94 2.06-2.06.94zm10 10l.94 2.06.94-2.06 2.06-.94-2.06-.94-.94-2.06-.94 2.06-2.06.94z\"/><path d=\"M17.41 7.96l-1.37-1.37c-.4-.4-.92-.59-1.43-.59-.52 0-1.04.2-1.43.59L10.3 9.45l-7.72 7.72c-.78.78-.78 2.05 0 2.83L4 21.41c.39.39.9.59 1.41.59.51 0 1.02-.2 1.41-.59l7.78-7.78 2.81-2.81c.8-.78.8-2.07 0-2.86zM5.41 20L4 18.59l7.72-7.72 1.47 1.35L5.41 20z\"/>\n",
              "  </svg>\n",
              "      </button>\n",
              "      \n",
              "  <style>\n",
              "    .colab-df-container {\n",
              "      display:flex;\n",
              "      flex-wrap:wrap;\n",
              "      gap: 12px;\n",
              "    }\n",
              "\n",
              "    .colab-df-convert {\n",
              "      background-color: #E8F0FE;\n",
              "      border: none;\n",
              "      border-radius: 50%;\n",
              "      cursor: pointer;\n",
              "      display: none;\n",
              "      fill: #1967D2;\n",
              "      height: 32px;\n",
              "      padding: 0 0 0 0;\n",
              "      width: 32px;\n",
              "    }\n",
              "\n",
              "    .colab-df-convert:hover {\n",
              "      background-color: #E2EBFA;\n",
              "      box-shadow: 0px 1px 2px rgba(60, 64, 67, 0.3), 0px 1px 3px 1px rgba(60, 64, 67, 0.15);\n",
              "      fill: #174EA6;\n",
              "    }\n",
              "\n",
              "    [theme=dark] .colab-df-convert {\n",
              "      background-color: #3B4455;\n",
              "      fill: #D2E3FC;\n",
              "    }\n",
              "\n",
              "    [theme=dark] .colab-df-convert:hover {\n",
              "      background-color: #434B5C;\n",
              "      box-shadow: 0px 1px 3px 1px rgba(0, 0, 0, 0.15);\n",
              "      filter: drop-shadow(0px 1px 2px rgba(0, 0, 0, 0.3));\n",
              "      fill: #FFFFFF;\n",
              "    }\n",
              "  </style>\n",
              "\n",
              "      <script>\n",
              "        const buttonEl =\n",
              "          document.querySelector('#df-dc20dab5-2864-4196-b7c4-631f7713739c button.colab-df-convert');\n",
              "        buttonEl.style.display =\n",
              "          google.colab.kernel.accessAllowed ? 'block' : 'none';\n",
              "\n",
              "        async function convertToInteractive(key) {\n",
              "          const element = document.querySelector('#df-dc20dab5-2864-4196-b7c4-631f7713739c');\n",
              "          const dataTable =\n",
              "            await google.colab.kernel.invokeFunction('convertToInteractive',\n",
              "                                                     [key], {});\n",
              "          if (!dataTable) return;\n",
              "\n",
              "          const docLinkHtml = 'Like what you see? Visit the ' +\n",
              "            '<a target=\"_blank\" href=https://colab.research.google.com/notebooks/data_table.ipynb>data table notebook</a>'\n",
              "            + ' to learn more about interactive tables.';\n",
              "          element.innerHTML = '';\n",
              "          dataTable['output_type'] = 'display_data';\n",
              "          await google.colab.output.renderOutput(dataTable, element);\n",
              "          const docLink = document.createElement('div');\n",
              "          docLink.innerHTML = docLinkHtml;\n",
              "          element.appendChild(docLink);\n",
              "        }\n",
              "      </script>\n",
              "    </div>\n",
              "  </div>\n",
              "  "
            ]
          },
          "metadata": {},
          "execution_count": 5
        }
      ],
      "source": [
        "of = import_excel(PAIS)\n",
        "of.head()"
      ]
    },
    {
      "cell_type": "code",
      "execution_count": null,
      "metadata": {
        "colab": {
          "base_uri": "https://localhost:8080/",
          "height": 300
        },
        "id": "iTCV2Z8_5EYW",
        "outputId": "cd0bdfa8-52bd-418d-eaea-30a1a07479da"
      },
      "outputs": [
        {
          "output_type": "execute_result",
          "data": {
            "text/plain": [
              "             deaths\n",
              "count     30.000000\n",
              "mean   32335.966667\n",
              "std    10222.733009\n",
              "min    17518.000000\n",
              "25%    23549.500000\n",
              "50%    31540.500000\n",
              "75%    40269.000000\n",
              "max    51135.000000"
            ],
            "text/html": [
              "\n",
              "  <div id=\"df-01a3a02f-ffe9-4abf-8eeb-5bd44cdb06b0\">\n",
              "    <div class=\"colab-df-container\">\n",
              "      <div>\n",
              "<style scoped>\n",
              "    .dataframe tbody tr th:only-of-type {\n",
              "        vertical-align: middle;\n",
              "    }\n",
              "\n",
              "    .dataframe tbody tr th {\n",
              "        vertical-align: top;\n",
              "    }\n",
              "\n",
              "    .dataframe thead th {\n",
              "        text-align: right;\n",
              "    }\n",
              "</style>\n",
              "<table border=\"1\" class=\"dataframe\">\n",
              "  <thead>\n",
              "    <tr style=\"text-align: right;\">\n",
              "      <th></th>\n",
              "      <th>deaths</th>\n",
              "    </tr>\n",
              "  </thead>\n",
              "  <tbody>\n",
              "    <tr>\n",
              "      <th>count</th>\n",
              "      <td>30.000000</td>\n",
              "    </tr>\n",
              "    <tr>\n",
              "      <th>mean</th>\n",
              "      <td>32335.966667</td>\n",
              "    </tr>\n",
              "    <tr>\n",
              "      <th>std</th>\n",
              "      <td>10222.733009</td>\n",
              "    </tr>\n",
              "    <tr>\n",
              "      <th>min</th>\n",
              "      <td>17518.000000</td>\n",
              "    </tr>\n",
              "    <tr>\n",
              "      <th>25%</th>\n",
              "      <td>23549.500000</td>\n",
              "    </tr>\n",
              "    <tr>\n",
              "      <th>50%</th>\n",
              "      <td>31540.500000</td>\n",
              "    </tr>\n",
              "    <tr>\n",
              "      <th>75%</th>\n",
              "      <td>40269.000000</td>\n",
              "    </tr>\n",
              "    <tr>\n",
              "      <th>max</th>\n",
              "      <td>51135.000000</td>\n",
              "    </tr>\n",
              "  </tbody>\n",
              "</table>\n",
              "</div>\n",
              "      <button class=\"colab-df-convert\" onclick=\"convertToInteractive('df-01a3a02f-ffe9-4abf-8eeb-5bd44cdb06b0')\"\n",
              "              title=\"Convert this dataframe to an interactive table.\"\n",
              "              style=\"display:none;\">\n",
              "        \n",
              "  <svg xmlns=\"http://www.w3.org/2000/svg\" height=\"24px\"viewBox=\"0 0 24 24\"\n",
              "       width=\"24px\">\n",
              "    <path d=\"M0 0h24v24H0V0z\" fill=\"none\"/>\n",
              "    <path d=\"M18.56 5.44l.94 2.06.94-2.06 2.06-.94-2.06-.94-.94-2.06-.94 2.06-2.06.94zm-11 1L8.5 8.5l.94-2.06 2.06-.94-2.06-.94L8.5 2.5l-.94 2.06-2.06.94zm10 10l.94 2.06.94-2.06 2.06-.94-2.06-.94-.94-2.06-.94 2.06-2.06.94z\"/><path d=\"M17.41 7.96l-1.37-1.37c-.4-.4-.92-.59-1.43-.59-.52 0-1.04.2-1.43.59L10.3 9.45l-7.72 7.72c-.78.78-.78 2.05 0 2.83L4 21.41c.39.39.9.59 1.41.59.51 0 1.02-.2 1.41-.59l7.78-7.78 2.81-2.81c.8-.78.8-2.07 0-2.86zM5.41 20L4 18.59l7.72-7.72 1.47 1.35L5.41 20z\"/>\n",
              "  </svg>\n",
              "      </button>\n",
              "      \n",
              "  <style>\n",
              "    .colab-df-container {\n",
              "      display:flex;\n",
              "      flex-wrap:wrap;\n",
              "      gap: 12px;\n",
              "    }\n",
              "\n",
              "    .colab-df-convert {\n",
              "      background-color: #E8F0FE;\n",
              "      border: none;\n",
              "      border-radius: 50%;\n",
              "      cursor: pointer;\n",
              "      display: none;\n",
              "      fill: #1967D2;\n",
              "      height: 32px;\n",
              "      padding: 0 0 0 0;\n",
              "      width: 32px;\n",
              "    }\n",
              "\n",
              "    .colab-df-convert:hover {\n",
              "      background-color: #E2EBFA;\n",
              "      box-shadow: 0px 1px 2px rgba(60, 64, 67, 0.3), 0px 1px 3px 1px rgba(60, 64, 67, 0.15);\n",
              "      fill: #174EA6;\n",
              "    }\n",
              "\n",
              "    [theme=dark] .colab-df-convert {\n",
              "      background-color: #3B4455;\n",
              "      fill: #D2E3FC;\n",
              "    }\n",
              "\n",
              "    [theme=dark] .colab-df-convert:hover {\n",
              "      background-color: #434B5C;\n",
              "      box-shadow: 0px 1px 3px 1px rgba(0, 0, 0, 0.15);\n",
              "      filter: drop-shadow(0px 1px 2px rgba(0, 0, 0, 0.3));\n",
              "      fill: #FFFFFF;\n",
              "    }\n",
              "  </style>\n",
              "\n",
              "      <script>\n",
              "        const buttonEl =\n",
              "          document.querySelector('#df-01a3a02f-ffe9-4abf-8eeb-5bd44cdb06b0 button.colab-df-convert');\n",
              "        buttonEl.style.display =\n",
              "          google.colab.kernel.accessAllowed ? 'block' : 'none';\n",
              "\n",
              "        async function convertToInteractive(key) {\n",
              "          const element = document.querySelector('#df-01a3a02f-ffe9-4abf-8eeb-5bd44cdb06b0');\n",
              "          const dataTable =\n",
              "            await google.colab.kernel.invokeFunction('convertToInteractive',\n",
              "                                                     [key], {});\n",
              "          if (!dataTable) return;\n",
              "\n",
              "          const docLinkHtml = 'Like what you see? Visit the ' +\n",
              "            '<a target=\"_blank\" href=https://colab.research.google.com/notebooks/data_table.ipynb>data table notebook</a>'\n",
              "            + ' to learn more about interactive tables.';\n",
              "          element.innerHTML = '';\n",
              "          dataTable['output_type'] = 'display_data';\n",
              "          await google.colab.output.renderOutput(dataTable, element);\n",
              "          const docLink = document.createElement('div');\n",
              "          docLink.innerHTML = docLinkHtml;\n",
              "          element.appendChild(docLink);\n",
              "        }\n",
              "      </script>\n",
              "    </div>\n",
              "  </div>\n",
              "  "
            ]
          },
          "metadata": {},
          "execution_count": 6
        }
      ],
      "source": [
        "#Resumen descriptivo de la serie de tiempo.\n",
        "df = of.copy()\n",
        "df.describe()"
      ]
    },
    {
      "cell_type": "markdown",
      "metadata": {
        "id": "XmqgErfVq5ea"
      },
      "source": [
        "En el siguiente modulo se agrega un grafico de linea el cual se construye en cuanto la cantidas de defunciones con respect del tiempo. "
      ]
    },
    {
      "cell_type": "code",
      "execution_count": null,
      "metadata": {
        "colab": {
          "base_uri": "https://localhost:8080/",
          "height": 297
        },
        "id": "9I4teqY0rJ_V",
        "outputId": "338a8389-7851-46e8-9bfd-f52c0610e251"
      },
      "outputs": [
        {
          "output_type": "execute_result",
          "data": {
            "text/plain": [
              "<AxesSubplot:xlabel='year'>"
            ]
          },
          "metadata": {},
          "execution_count": 7
        },
        {
          "output_type": "display_data",
          "data": {
            "text/plain": [
              "<Figure size 432x288 with 1 Axes>"
            ],
            "image/png": "[encoded data removed]"
          },
          "metadata": {
            "needs_background": "light"
          }
        }
      ],
      "source": [
        "#Muestra el grafico de la serie de tiempo.\n",
        "df.plot()"
      ]
    },
    {
      "cell_type": "code",
      "execution_count": null,
      "metadata": {
        "colab": {
          "base_uri": "https://localhost:8080/"
        },
        "id": "_PHyzUDwvHuT",
        "outputId": "34213d2c-9c06-42f7-9cf1-c4c02f30d002"
      },
      "outputs": [
        {
          "output_type": "stream",
          "name": "stdout",
          "text": [
            "JB Test Statistic : 1.8143104749264205\n",
            "p-value : 0.4036709401605231\n",
            "Existe evidencia débil contra la hipótesis nula, lo que indica que no es estacionaria en promedio\n"
          ]
        }
      ],
      "source": [
        "jarquebera_test(df.deaths)"
      ]
    },
    {
      "cell_type": "code",
      "execution_count": null,
      "metadata": {
        "colab": {
          "base_uri": "https://localhost:8080/",
          "height": 265
        },
        "id": "IxNleCBqakGi",
        "outputId": "494498e0-5ab6-40bf-ad9b-22dcbd543546"
      },
      "outputs": [
        {
          "output_type": "display_data",
          "data": {
            "text/plain": [
              "<Figure size 432x288 with 1 Axes>"
            ],
            "image/png": "[encoded data removed]"
          },
          "metadata": {
            "needs_background": "light"
          }
        }
      ],
      "source": [
        "x = np.arange(0, 10, 0.001)\n",
        "plt.plot(x, stats.chi2.pdf(x, df=2))\n",
        "plt.axvline(x = 5.99, color = 'b', linestyle = '--')\n",
        "plt.show()"
      ]
    },
    {
      "cell_type": "markdown",
      "metadata": {
        "id": "VW5hhAsgRHLM"
      },
      "source": [
        "Se concluye con el 95% de confianza que los datos se distribuyen como una normal. por otro lado se concluye que la serie no es estacionaria en media.\n",
        "El Estadístico de contraste de Jarque-Bera JB se distribuye como una Chi_Cuadrado de 2 grados de libertad. la cual para el 95% de confianza es igual a 5.99 como lo muestra la gráfica.\n",
        "\n",
        "Nota: El contraste o test de Jarque-Bera por ser asintoticamente una Chi_Cuadrado de 2 grados de libertad, no es muy potente, por lo que es siempre recomentdado complementar con otros test y usarlo como primer indicador. \n",
        "\n"
      ]
    },
    {
      "cell_type": "code",
      "execution_count": null,
      "metadata": {
        "colab": {
          "base_uri": "https://localhost:8080/"
        },
        "id": "eznMi5-KuYDd",
        "outputId": "a1833d65-b404-430d-d50c-eac220745666"
      },
      "outputs": [
        {
          "output_type": "execute_result",
          "data": {
            "text/plain": [
              "LeveneResult(statistic=1.3213235426628656, pvalue=0.2600789058830362)"
            ]
          },
          "metadata": {},
          "execution_count": 10
        }
      ],
      "source": [
        "df1 = df.iloc[:int(df.shape[0]/2):]\n",
        "df2 = df.iloc[-int(df.shape[0]/2):]\n",
        "levene = stats.levene(df1.deaths, df2.deaths)\n",
        "levene"
      ]
    },
    {
      "cell_type": "markdown",
      "metadata": {
        "id": "0mHIp0qxfcYW"
      },
      "source": [
        "La figura muestra la grafica de una distribución F de Snedecor de 4 grados de libertad en el numerador y 25 en el denominador. gl num= k-1 donde k es el numero de categorias en la distribución de frecuencias. gl denom= n - k - 1."
      ]
    },
    {
      "cell_type": "code",
      "execution_count": null,
      "metadata": {
        "colab": {
          "base_uri": "https://localhost:8080/",
          "height": 265
        },
        "id": "RldU3wg6Xj_i",
        "outputId": "63df669a-4d34-41ac-e7ef-32df228aed8b"
      },
      "outputs": [
        {
          "output_type": "display_data",
          "data": {
            "text/plain": [
              "<Figure size 432x288 with 1 Axes>"
            ],
            "image/png": "[encoded data removed]"
          },
          "metadata": {
            "needs_background": "light"
          }
        }
      ],
      "source": [
        "dfn, dfd = 2, 27\n",
        "x = np.linspace(stats.f.ppf(0.01, dfn, dfd), stats.f.ppf(0.99, dfn, dfd), 100)\n",
        "plt.plot(x, stats.f.pdf(x, dfn, dfd), 'r-', lw=2, alpha=0.6, label='f pdf')\n",
        "plt.axvline(x = levene.statistic, color = 'b', linestyle = '--')\n",
        "plt.show()"
      ]
    },
    {
      "cell_type": "code",
      "execution_count": null,
      "metadata": {
        "colab": {
          "base_uri": "https://localhost:8080/",
          "height": 601
        },
        "id": "Up6BIy-hwiIQ",
        "outputId": "b919f9c7-dcba-4690-f4b5-93efcc825a38"
      },
      "outputs": [
        {
          "output_type": "stream",
          "name": "stderr",
          "text": [
            "/usr/local/lib/python3.8/dist-packages/statsmodels/graphics/tsaplots.py:348: FutureWarning: The default method 'yw' can produce PACF values outside of the [-1,1] interval. After 0.13, the default will change tounadjusted Yule-Walker ('ywm'). You can use this method now by setting method='ywm'.\n",
            "  warnings.warn(\n"
          ]
        },
        {
          "output_type": "display_data",
          "data": {
            "text/plain": [
              "<Figure size 432x288 with 1 Axes>"
            ],
            "image/png": "[encoded data removed]"
          },
          "metadata": {
            "needs_background": "light"
          }
        },
        {
          "output_type": "display_data",
          "data": {
            "text/plain": [
              "<Figure size 432x288 with 1 Axes>"
            ],
            "image/png": "[encoded data removed]"
          },
          "metadata": {
            "needs_background": "light"
          }
        }
      ],
      "source": [
        "#Este modulo debería mostrar las graficas de las dos funciones de autocorrelación\n",
        "#La FAC o función de Autocorrelación en la primera grafica y la FACP o Función\n",
        "#de Autocorrelación Parcial en la segunda grafica. Genera un error porque no contempla valores negativos.\n",
        "df = of.copy()\n",
        "plot_acf(df)\n",
        "plot_pacf(df, lags=14)\n",
        "plt.show()"
      ]
    },
    {
      "cell_type": "code",
      "execution_count": null,
      "metadata": {
        "id": "1x3SgasUGsKq"
      },
      "outputs": [],
      "source": [
        "test_result = adfuller(df['deaths'])"
      ]
    },
    {
      "cell_type": "code",
      "execution_count": null,
      "metadata": {
        "colab": {
          "base_uri": "https://localhost:8080/"
        },
        "id": "ZpEn42P2HLRo",
        "outputId": "1fb5aec8-ff28-4892-9867-da4c2f5078ed"
      },
      "outputs": [
        {
          "output_type": "stream",
          "name": "stdout",
          "text": [
            "ADF Test Statistic : 4.193887020937022\n",
            "p-value : 1.0\n",
            "#Lags Used : 2\n",
            "Number of Observations Used : 27\n",
            "Existe evidencia débil contra la hipótesis nula, la serie de tiempo tiene una raíz unitaria, lo que indica que no es estacionaria \n"
          ]
        }
      ],
      "source": [
        "#Muestra el resultado de la prueba de Dickey-Fuller\n",
        "adfuller_test(df['deaths'])"
      ]
    },
    {
      "cell_type": "code",
      "execution_count": null,
      "metadata": {
        "id": "qdSotqBHIebR"
      },
      "outputs": [],
      "source": [
        "#Calcula la primera diferencia de la serie. Se direrencia solo con respecto de 1 rezago. \n",
        "df['deaths_primera_diferencia'] = (df['deaths'] - df['deaths'].shift(1))\n",
        "df = df.dropna()"
      ]
    },
    {
      "cell_type": "code",
      "execution_count": null,
      "metadata": {
        "colab": {
          "base_uri": "https://localhost:8080/",
          "height": 297
        },
        "id": "6YWLRzl0Jipg",
        "outputId": "1e295aaa-5b72-415c-df26-d3913c310da2"
      },
      "outputs": [
        {
          "output_type": "execute_result",
          "data": {
            "text/plain": [
              "<AxesSubplot:xlabel='year'>"
            ]
          },
          "metadata": {},
          "execution_count": 16
        },
        {
          "output_type": "display_data",
          "data": {
            "text/plain": [
              "<Figure size 432x288 with 1 Axes>"
            ],
            "image/png": "[encoded data removed]"
          },
          "metadata": {
            "needs_background": "light"
          }
        }
      ],
      "source": [
        "#Muestra la grafica de la serie diferenciada. \n",
        "df['deaths_primera_diferencia'].plot()"
      ]
    },
    {
      "cell_type": "code",
      "execution_count": null,
      "metadata": {
        "colab": {
          "base_uri": "https://localhost:8080/"
        },
        "id": "BKuTArELP9ol",
        "outputId": "e857f8b5-6aef-4531-84bc-6592ae459940"
      },
      "outputs": [
        {
          "output_type": "stream",
          "name": "stdout",
          "text": [
            "ADF Test Statistic : -1.4679431017439106\n",
            "p-value : 0.5493056581158401\n",
            "#Lags Used : 2\n",
            "Number of Observations Used : 26\n",
            "Existe evidencia débil contra la hipótesis nula, la serie de tiempo tiene una raíz unitaria, lo que indica que no es estacionaria \n"
          ]
        }
      ],
      "source": [
        "#Muestra el resultado de la prueba de Dickey-Fuller\n",
        "adfuller_test(df.deaths_primera_diferencia)"
      ]
    },
    {
      "cell_type": "code",
      "execution_count": null,
      "metadata": {
        "id": "qW0sNJvkKOMG"
      },
      "outputs": [],
      "source": [
        "#Calcula la segunda diferewncia dado que la primera muestra todavia una tendencia que no es lo adecuado.\n",
        "df['deaths_second_difference'] = df['deaths_primera_diferencia'] - df['deaths_primera_diferencia'].shift(1)\n",
        "df = df.dropna()"
      ]
    },
    {
      "cell_type": "code",
      "execution_count": null,
      "metadata": {
        "colab": {
          "base_uri": "https://localhost:8080/"
        },
        "id": "H9jvjdFaKjnU",
        "outputId": "018e122d-0f68-4953-f215-b715c47094c1"
      },
      "outputs": [
        {
          "output_type": "execute_result",
          "data": {
            "text/plain": [
              "year\n",
              "1992    372.0\n",
              "1993    119.0\n",
              "1994   -217.0\n",
              "1995    192.0\n",
              "1996    144.0\n",
              "Name: deaths_second_difference, dtype: float64"
            ]
          },
          "metadata": {},
          "execution_count": 19
        }
      ],
      "source": [
        "#Muestra la serie en su segunda diferencia.\n",
        "df['deaths_second_difference'].head()"
      ]
    },
    {
      "cell_type": "code",
      "execution_count": null,
      "metadata": {
        "colab": {
          "base_uri": "https://localhost:8080/",
          "height": 297
        },
        "id": "_9U99BJbKr0H",
        "outputId": "9f4b1291-fe1f-4051-a835-ac97f6659434"
      },
      "outputs": [
        {
          "output_type": "execute_result",
          "data": {
            "text/plain": [
              "<AxesSubplot:xlabel='year'>"
            ]
          },
          "metadata": {},
          "execution_count": 20
        },
        {
          "output_type": "display_data",
          "data": {
            "text/plain": [
              "<Figure size 432x288 with 1 Axes>"
            ],
            "image/png": "[encoded data removed]"
          },
          "metadata": {
            "needs_background": "light"
          }
        }
      ],
      "source": [
        "#Muestra el grafico de la segunda diferencia\n",
        "df['deaths_second_difference'].plot()"
      ]
    },
    {
      "cell_type": "code",
      "execution_count": null,
      "metadata": {
        "colab": {
          "base_uri": "https://localhost:8080/",
          "height": 601
        },
        "id": "nLsLgvLaLinD",
        "outputId": "c16944ae-a714-4b68-e4ad-d69820d19b82"
      },
      "outputs": [
        {
          "output_type": "stream",
          "name": "stderr",
          "text": [
            "/usr/local/lib/python3.8/dist-packages/statsmodels/graphics/tsaplots.py:348: FutureWarning: The default method 'yw' can produce PACF values outside of the [-1,1] interval. After 0.13, the default will change tounadjusted Yule-Walker ('ywm'). You can use this method now by setting method='ywm'.\n",
            "  warnings.warn(\n"
          ]
        },
        {
          "output_type": "display_data",
          "data": {
            "text/plain": [
              "<Figure size 432x288 with 1 Axes>"
            ],
            "image/png": "[encoded data removed]"
          },
          "metadata": {
            "needs_background": "light"
          }
        },
        {
          "output_type": "display_data",
          "data": {
            "text/plain": [
              "<Figure size 432x288 with 1 Axes>"
            ],
            "image/png": "[encoded data removed]"
          },
          "metadata": {
            "needs_background": "light"
          }
        }
      ],
      "source": [
        "#Muestra el correlograma en segunda diferencia. \n",
        "plot_acf(df['deaths_second_difference'])\n",
        "plot_pacf(df['deaths_second_difference'], lags=13)\n",
        "plt.show()"
      ]
    },
    {
      "cell_type": "code",
      "execution_count": null,
      "metadata": {
        "id": "giNaNNFQOdhM"
      },
      "outputs": [],
      "source": [
        "#Estima el modelo para un ARIMA de orden(1,2,0) y luego hace el ajuste o Fit \n",
        "import datetime\n",
        "de = df.copy()\n",
        "de.index = pd.DatetimeIndex(pd.to_datetime(de.index, format='%Y'), freq='AS-JAN')\n",
        "model = ARIMA(de['deaths'], order=(1, 2, 0))\n",
        "model_fit = model.fit()"
      ]
    },
    {
      "cell_type": "code",
      "execution_count": null,
      "metadata": {
        "colab": {
          "base_uri": "https://localhost:8080/",
          "height": 409
        },
        "id": "PHAAyG7o5Oac",
        "outputId": "34e325f6-09b8-4ac6-e3c7-a96605f1ddf5"
      },
      "outputs": [
        {
          "output_type": "execute_result",
          "data": {
            "text/plain": [
              "<class 'statsmodels.iolib.summary.Summary'>\n",
              "\"\"\"\n",
              "                               SARIMAX Results                                \n",
              "==============================================================================\n",
              "Dep. Variable:                 deaths   No. Observations:                   28\n",
              "Model:                 ARIMA(1, 2, 0)   Log Likelihood                -189.611\n",
              "Date:                Mon, 06 Mar 2023   AIC                            383.222\n",
              "Time:                        14:27:51   BIC                            385.738\n",
              "Sample:                    01-01-1992   HQIC                           383.946\n",
              "                         - 01-01-2019                                         \n",
              "Covariance Type:                  opg                                         \n",
              "==============================================================================\n",
              "                 coef    std err          z      P>|z|      [0.025      0.975]\n",
              "------------------------------------------------------------------------------\n",
              "ar.L1         -0.0130      0.184     -0.071      0.943      -0.373       0.347\n",
              "sigma2      1.269e+05   4.41e+04      2.879      0.004    4.05e+04    2.13e+05\n",
              "===================================================================================\n",
              "Ljung-Box (L1) (Q):                   0.61   Jarque-Bera (JB):                 0.16\n",
              "Prob(Q):                              0.43   Prob(JB):                         0.92\n",
              "Heteroskedasticity (H):               3.01   Skew:                            -0.14\n",
              "Prob(H) (two-sided):                  0.12   Kurtosis:                         2.73\n",
              "===================================================================================\n",
              "\n",
              "Warnings:\n",
              "[1] Covariance matrix calculated using the outer product of gradients (complex-step).\n",
              "\"\"\""
            ],
            "text/html": [
              "<table class=\"simpletable\">\n",
              "<caption>SARIMAX Results</caption>\n",
              "<tr>\n",
              "  <th>Dep. Variable:</th>        <td>deaths</td>      <th>  No. Observations:  </th>    <td>28</td>   \n",
              "</tr>\n",
              "<tr>\n",
              "  <th>Model:</th>            <td>ARIMA(1, 2, 0)</td>  <th>  Log Likelihood     </th> <td>-189.611</td>\n",
              "</tr>\n",
              "<tr>\n",
              "  <th>Date:</th>            <td>Mon, 06 Mar 2023</td> <th>  AIC                </th>  <td>383.222</td>\n",
              "</tr>\n",
              "<tr>\n",
              "  <th>Time:</th>                <td>14:27:51</td>     <th>  BIC                </th>  <td>385.738</td>\n",
              "</tr>\n",
              "<tr>\n",
              "  <th>Sample:</th>             <td>01-01-1992</td>    <th>  HQIC               </th>  <td>383.946</td>\n",
              "</tr>\n",
              "<tr>\n",
              "  <th></th>                   <td>- 01-01-2019</td>   <th>                     </th>     <td> </td>   \n",
              "</tr>\n",
              "<tr>\n",
              "  <th>Covariance Type:</th>        <td>opg</td>       <th>                     </th>     <td> </td>   \n",
              "</tr>\n",
              "</table>\n",
              "<table class=\"simpletable\">\n",
              "<tr>\n",
              "     <td></td>       <th>coef</th>     <th>std err</th>      <th>z</th>      <th>P>|z|</th>  <th>[0.025</th>    <th>0.975]</th>  \n",
              "</tr>\n",
              "<tr>\n",
              "  <th>ar.L1</th>  <td>   -0.0130</td> <td>    0.184</td> <td>   -0.071</td> <td> 0.943</td> <td>   -0.373</td> <td>    0.347</td>\n",
              "</tr>\n",
              "<tr>\n",
              "  <th>sigma2</th> <td> 1.269e+05</td> <td> 4.41e+04</td> <td>    2.879</td> <td> 0.004</td> <td> 4.05e+04</td> <td> 2.13e+05</td>\n",
              "</tr>\n",
              "</table>\n",
              "<table class=\"simpletable\">\n",
              "<tr>\n",
              "  <th>Ljung-Box (L1) (Q):</th>     <td>0.61</td> <th>  Jarque-Bera (JB):  </th> <td>0.16</td> \n",
              "</tr>\n",
              "<tr>\n",
              "  <th>Prob(Q):</th>                <td>0.43</td> <th>  Prob(JB):          </th> <td>0.92</td> \n",
              "</tr>\n",
              "<tr>\n",
              "  <th>Heteroskedasticity (H):</th> <td>3.01</td> <th>  Skew:              </th> <td>-0.14</td>\n",
              "</tr>\n",
              "<tr>\n",
              "  <th>Prob(H) (two-sided):</th>    <td>0.12</td> <th>  Kurtosis:          </th> <td>2.73</td> \n",
              "</tr>\n",
              "</table><br/><br/>Warnings:<br/>[1] Covariance matrix calculated using the outer product of gradients (complex-step)."
            ]
          },
          "metadata": {},
          "execution_count": 23
        }
      ],
      "source": [
        "#Muestra el resumen de la estimación del modelo.\n",
        "#Es en este momento cuando se observan los resultados para saber si el modelo estimado es \n",
        "#buen candidato para las estimaciones. \n",
        "model_fit.summary()"
      ]
    },
    {
      "cell_type": "markdown",
      "metadata": {
        "id": "MXL5oyM5ziIB"
      },
      "source": [
        "En este punto se debe hacer las pruebas de los residuos. las cuales son las mismas pruebas de estacionariedad de Jarque-Bera, Bartlett, y correlogramas... "
      ]
    },
    {
      "cell_type": "markdown",
      "metadata": {
        "id": "CbiYPbUUm24a"
      },
      "source": [
        "The dynamic keyword affects in-sample prediction. If dynamic is False, then the in-sample lagged values are used for prediction. If dynamic is True, then in-sample forecasts are used in place of lagged dependent variables. The first forecast value is start."
      ]
    },
    {
      "cell_type": "code",
      "execution_count": null,
      "metadata": {
        "id": "UH7EdzwtPY4F"
      },
      "outputs": [],
      "source": [
        "#Construye las estimaciones de la serie de tiempo para los años correspondientes. \n",
        "#df['forecast']=model_fit.predict(start=3,end=40,dynamic=True)\n",
        "de['prediction'] = model_fit.predict(start='1992-01-01', end='2019-01-01')\n",
        "de = de.tail(-2)"
      ]
    },
    {
      "cell_type": "code",
      "execution_count": null,
      "metadata": {
        "colab": {
          "base_uri": "https://localhost:8080/"
        },
        "id": "iVdMP-22lGy8",
        "outputId": "385bf576-1acf-4b11-d5af-24a3da3308d4"
      },
      "outputs": [
        {
          "output_type": "execute_result",
          "data": {
            "text/plain": [
              "2020-01-01    52923\n",
              "2021-01-01    54712\n",
              "2022-01-01    56500\n",
              "2023-01-01    58289\n",
              "2024-01-01    60077\n",
              "2025-01-01    61866\n",
              "2026-01-01    63654\n",
              "2027-01-01    65443\n",
              "2028-01-01    67231\n",
              "2029-01-01    69020\n",
              "2030-01-01    70808\n",
              "Freq: AS-JAN, Name: predicted_mean, dtype: int64"
            ]
          },
          "metadata": {},
          "execution_count": 25
        }
      ],
      "source": [
        "forecast = model_fit.forecast(steps=11).astype(int)\n",
        "forecast"
      ]
    },
    {
      "cell_type": "code",
      "execution_count": null,
      "metadata": {
        "id": "ZLBpIRjVKFf2"
      },
      "outputs": [],
      "source": [
        "rnd_forecast = (forecast + np.random.normal(0.0, 20, len(forecast))).astype(int)"
      ]
    },
    {
      "cell_type": "code",
      "execution_count": null,
      "metadata": {
        "id": "ZRDiXxgftak8"
      },
      "outputs": [],
      "source": [
        "data = pd.DataFrame(data={\n",
        "    'prediction': pd.concat([de.prediction, rnd_forecast]).astype(int)\n",
        "})\n",
        "\n",
        "data['lim-inf'] = data['prediction'] - 1.96*data['prediction'].rolling(2).std().fillna(0).astype(int)\n",
        "data['lim-sup'] = data['prediction'] + 1.96*data['prediction'].rolling(2).std().fillna(0).astype(int)"
      ]
    },
    {
      "cell_type": "code",
      "execution_count": null,
      "metadata": {
        "colab": {
          "base_uri": "https://localhost:8080/",
          "height": 350
        },
        "id": "Cgrv2Ll9n7hn",
        "outputId": "6b700578-cf4b-4254-a7b6-3571ad65ea4a"
      },
      "outputs": [
        {
          "output_type": "display_data",
          "data": {
            "text/plain": [
              "<Figure size 720x360 with 1 Axes>"
            ],
            "image/png": "[encoded data removed]"
          },
          "metadata": {
            "needs_background": "light"
          }
        }
      ],
      "source": [
        "de.deaths.plot(color='red', figsize=(10,5), label=\"Real Data\")\n",
        "data.prediction.plot(color='black', linestyle='--', alpha=.8, label=\"Prediction\")\n",
        "data['lim-inf'].plot(color='tab:cyan', alpha=.4, label='')\n",
        "data['lim-sup'].plot(color='tab:cyan', alpha=.4, label='')\n",
        "plt.fill_between(data.index, data['lim-inf'], data['lim-sup'], color='tab:cyan', alpha=.3)\n",
        "plt.title('ARIMA Model')\n",
        "plt.xlabel('Years')\n",
        "plt.ylabel('Number of Deaths')\n",
        "plt.legend()\n",
        "plt.show()"
      ]
    },
    {
      "cell_type": "code",
      "execution_count": null,
      "metadata": {
        "colab": {
          "base_uri": "https://localhost:8080/",
          "height": 1000
        },
        "id": "y7enaTZxxxXi",
        "outputId": "54ccb5a0-9c56-4c38-adfe-ce8e1fcdf2a0"
      },
      "outputs": [
        {
          "output_type": "execute_result",
          "data": {
            "text/plain": [
              "            prediction   lim-inf   lim-sup\n",
              "1994-01-01       20578  20578.00  20578.00\n",
              "1995-01-01       21036  20402.92  21669.08\n",
              "1996-01-01       22110  20622.36  23597.64\n",
              "1997-01-01       23286  21657.24  24914.76\n",
              "1998-01-01       24201  22932.88  25469.12\n",
              "1999-01-01       25788  23588.88  27987.12\n",
              "2000-01-01       26840  25383.72  28296.28\n",
              "2001-01-01       27404  26623.92  28184.08\n",
              "2002-01-01       28726  26895.36  30556.64\n",
              "2003-01-01       30668  27976.92  33359.08\n",
              "2004-01-01       31629  30298.16  32959.84\n",
              "2005-01-01       32091  31452.04  32729.96\n",
              "2006-01-01       32451  31953.16  32948.84\n",
              "2007-01-01       34374  31710.36  37037.64\n",
              "2008-01-01       35748  33844.84  37651.16\n",
              "2009-01-01       36331  35523.48  37138.52\n",
              "2010-01-01       38175  35621.12  40728.88\n",
              "2011-01-01       39631  37614.16  41647.84\n",
              "2012-01-01       40642  39242.56  42041.44\n",
              "2013-01-01       41680  40243.32  43116.68\n",
              "2014-01-01       42969  41183.44  44754.56\n",
              "2015-01-01       43960  42588.00  45332.00\n",
              "2016-01-01       46115  43129.92  49100.08\n",
              "2017-01-01       48893  45043.56  52742.44\n",
              "2018-01-01       49407  48695.52  50118.48\n",
              "2019-01-01       50634  48934.68  52333.32\n",
              "2020-01-01       52905  49759.20  56050.80\n",
              "2021-01-01       54673  52223.00  57123.00\n",
              "2022-01-01       56499  53968.64  59029.36\n",
              "2023-01-01       58285  55811.48  60758.52\n",
              "2024-01-01       60057  57603.08  62510.92\n",
              "2025-01-01       61879  59354.52  64403.48\n",
              "2026-01-01       63701  61176.52  66225.48\n",
              "2027-01-01       65457  63024.64  67889.36\n",
              "2028-01-01       67268  64759.20  69776.80\n",
              "2029-01-01       68979  66609.36  71348.64\n",
              "2030-01-01       70811  68272.80  73349.20"
            ],
            "text/html": [
              "\n",
              "  <div id=\"df-861dd66f-f7d3-43fa-91b3-dc813920f90a\">\n",
              "    <div class=\"colab-df-container\">\n",
              "      <div>\n",
              "<style scoped>\n",
              "    .dataframe tbody tr th:only-of-type {\n",
              "        vertical-align: middle;\n",
              "    }\n",
              "\n",
              "    .dataframe tbody tr th {\n",
              "        vertical-align: top;\n",
              "    }\n",
              "\n",
              "    .dataframe thead th {\n",
              "        text-align: right;\n",
              "    }\n",
              "</style>\n",
              "<table border=\"1\" class=\"dataframe\">\n",
              "  <thead>\n",
              "    <tr style=\"text-align: right;\">\n",
              "      <th></th>\n",
              "      <th>prediction</th>\n",
              "      <th>lim-inf</th>\n",
              "      <th>lim-sup</th>\n",
              "    </tr>\n",
              "  </thead>\n",
              "  <tbody>\n",
              "    <tr>\n",
              "      <th>1994-01-01</th>\n",
              "      <td>20578</td>\n",
              "      <td>20578.00</td>\n",
              "      <td>20578.00</td>\n",
              "    </tr>\n",
              "    <tr>\n",
              "      <th>1995-01-01</th>\n",
              "      <td>21036</td>\n",
              "      <td>20402.92</td>\n",
              "      <td>21669.08</td>\n",
              "    </tr>\n",
              "    <tr>\n",
              "      <th>1996-01-01</th>\n",
              "      <td>22110</td>\n",
              "      <td>20622.36</td>\n",
              "      <td>23597.64</td>\n",
              "    </tr>\n",
              "    <tr>\n",
              "      <th>1997-01-01</th>\n",
              "      <td>23286</td>\n",
              "      <td>21657.24</td>\n",
              "      <td>24914.76</td>\n",
              "    </tr>\n",
              "    <tr>\n",
              "      <th>1998-01-01</th>\n",
              "      <td>24201</td>\n",
              "      <td>22932.88</td>\n",
              "      <td>25469.12</td>\n",
              "    </tr>\n",
              "    <tr>\n",
              "      <th>1999-01-01</th>\n",
              "      <td>25788</td>\n",
              "      <td>23588.88</td>\n",
              "      <td>27987.12</td>\n",
              "    </tr>\n",
              "    <tr>\n",
              "      <th>2000-01-01</th>\n",
              "      <td>26840</td>\n",
              "      <td>25383.72</td>\n",
              "      <td>28296.28</td>\n",
              "    </tr>\n",
              "    <tr>\n",
              "      <th>2001-01-01</th>\n",
              "      <td>27404</td>\n",
              "      <td>26623.92</td>\n",
              "      <td>28184.08</td>\n",
              "    </tr>\n",
              "    <tr>\n",
              "      <th>2002-01-01</th>\n",
              "      <td>28726</td>\n",
              "      <td>26895.36</td>\n",
              "      <td>30556.64</td>\n",
              "    </tr>\n",
              "    <tr>\n",
              "      <th>2003-01-01</th>\n",
              "      <td>30668</td>\n",
              "      <td>27976.92</td>\n",
              "      <td>33359.08</td>\n",
              "    </tr>\n",
              "    <tr>\n",
              "      <th>2004-01-01</th>\n",
              "      <td>31629</td>\n",
              "      <td>30298.16</td>\n",
              "      <td>32959.84</td>\n",
              "    </tr>\n",
              "    <tr>\n",
              "      <th>2005-01-01</th>\n",
              "      <td>32091</td>\n",
              "      <td>31452.04</td>\n",
              "      <td>32729.96</td>\n",
              "    </tr>\n",
              "    <tr>\n",
              "      <th>2006-01-01</th>\n",
              "      <td>32451</td>\n",
              "      <td>31953.16</td>\n",
              "      <td>32948.84</td>\n",
              "    </tr>\n",
              "    <tr>\n",
              "      <th>2007-01-01</th>\n",
              "      <td>34374</td>\n",
              "      <td>31710.36</td>\n",
              "      <td>37037.64</td>\n",
              "    </tr>\n",
              "    <tr>\n",
              "      <th>2008-01-01</th>\n",
              "      <td>35748</td>\n",
              "      <td>33844.84</td>\n",
              "      <td>37651.16</td>\n",
              "    </tr>\n",
              "    <tr>\n",
              "      <th>2009-01-01</th>\n",
              "      <td>36331</td>\n",
              "      <td>35523.48</td>\n",
              "      <td>37138.52</td>\n",
              "    </tr>\n",
              "    <tr>\n",
              "      <th>2010-01-01</th>\n",
              "      <td>38175</td>\n",
              "      <td>35621.12</td>\n",
              "      <td>40728.88</td>\n",
              "    </tr>\n",
              "    <tr>\n",
              "      <th>2011-01-01</th>\n",
              "      <td>39631</td>\n",
              "      <td>37614.16</td>\n",
              "      <td>41647.84</td>\n",
              "    </tr>\n",
              "    <tr>\n",
              "      <th>2012-01-01</th>\n",
              "      <td>40642</td>\n",
              "      <td>39242.56</td>\n",
              "      <td>42041.44</td>\n",
              "    </tr>\n",
              "    <tr>\n",
              "      <th>2013-01-01</th>\n",
              "      <td>41680</td>\n",
              "      <td>40243.32</td>\n",
              "      <td>43116.68</td>\n",
              "    </tr>\n",
              "    <tr>\n",
              "      <th>2014-01-01</th>\n",
              "      <td>42969</td>\n",
              "      <td>41183.44</td>\n",
              "      <td>44754.56</td>\n",
              "    </tr>\n",
              "    <tr>\n",
              "      <th>2015-01-01</th>\n",
              "      <td>43960</td>\n",
              "      <td>42588.00</td>\n",
              "      <td>45332.00</td>\n",
              "    </tr>\n",
              "    <tr>\n",
              "      <th>2016-01-01</th>\n",
              "      <td>46115</td>\n",
              "      <td>43129.92</td>\n",
              "      <td>49100.08</td>\n",
              "    </tr>\n",
              "    <tr>\n",
              "      <th>2017-01-01</th>\n",
              "      <td>48893</td>\n",
              "      <td>45043.56</td>\n",
              "      <td>52742.44</td>\n",
              "    </tr>\n",
              "    <tr>\n",
              "      <th>2018-01-01</th>\n",
              "      <td>49407</td>\n",
              "      <td>48695.52</td>\n",
              "      <td>50118.48</td>\n",
              "    </tr>\n",
              "    <tr>\n",
              "      <th>2019-01-01</th>\n",
              "      <td>50634</td>\n",
              "      <td>48934.68</td>\n",
              "      <td>52333.32</td>\n",
              "    </tr>\n",
              "    <tr>\n",
              "      <th>2020-01-01</th>\n",
              "      <td>52905</td>\n",
              "      <td>49759.20</td>\n",
              "      <td>56050.80</td>\n",
              "    </tr>\n",
              "    <tr>\n",
              "      <th>2021-01-01</th>\n",
              "      <td>54673</td>\n",
              "      <td>52223.00</td>\n",
              "      <td>57123.00</td>\n",
              "    </tr>\n",
              "    <tr>\n",
              "      <th>2022-01-01</th>\n",
              "      <td>56499</td>\n",
              "      <td>53968.64</td>\n",
              "      <td>59029.36</td>\n",
              "    </tr>\n",
              "    <tr>\n",
              "      <th>2023-01-01</th>\n",
              "      <td>58285</td>\n",
              "      <td>55811.48</td>\n",
              "      <td>60758.52</td>\n",
              "    </tr>\n",
              "    <tr>\n",
              "      <th>2024-01-01</th>\n",
              "      <td>60057</td>\n",
              "      <td>57603.08</td>\n",
              "      <td>62510.92</td>\n",
              "    </tr>\n",
              "    <tr>\n",
              "      <th>2025-01-01</th>\n",
              "      <td>61879</td>\n",
              "      <td>59354.52</td>\n",
              "      <td>64403.48</td>\n",
              "    </tr>\n",
              "    <tr>\n",
              "      <th>2026-01-01</th>\n",
              "      <td>63701</td>\n",
              "      <td>61176.52</td>\n",
              "      <td>66225.48</td>\n",
              "    </tr>\n",
              "    <tr>\n",
              "      <th>2027-01-01</th>\n",
              "      <td>65457</td>\n",
              "      <td>63024.64</td>\n",
              "      <td>67889.36</td>\n",
              "    </tr>\n",
              "    <tr>\n",
              "      <th>2028-01-01</th>\n",
              "      <td>67268</td>\n",
              "      <td>64759.20</td>\n",
              "      <td>69776.80</td>\n",
              "    </tr>\n",
              "    <tr>\n",
              "      <th>2029-01-01</th>\n",
              "      <td>68979</td>\n",
              "      <td>66609.36</td>\n",
              "      <td>71348.64</td>\n",
              "    </tr>\n",
              "    <tr>\n",
              "      <th>2030-01-01</th>\n",
              "      <td>70811</td>\n",
              "      <td>68272.80</td>\n",
              "      <td>73349.20</td>\n",
              "    </tr>\n",
              "  </tbody>\n",
              "</table>\n",
              "</div>\n",
              "      <button class=\"colab-df-convert\" onclick=\"convertToInteractive('df-861dd66f-f7d3-43fa-91b3-dc813920f90a')\"\n",
              "              title=\"Convert this dataframe to an interactive table.\"\n",
              "              style=\"display:none;\">\n",
              "        \n",
              "  <svg xmlns=\"http://www.w3.org/2000/svg\" height=\"24px\"viewBox=\"0 0 24 24\"\n",
              "       width=\"24px\">\n",
              "    <path d=\"M0 0h24v24H0V0z\" fill=\"none\"/>\n",
              "    <path d=\"M18.56 5.44l.94 2.06.94-2.06 2.06-.94-2.06-.94-.94-2.06-.94 2.06-2.06.94zm-11 1L8.5 8.5l.94-2.06 2.06-.94-2.06-.94L8.5 2.5l-.94 2.06-2.06.94zm10 10l.94 2.06.94-2.06 2.06-.94-2.06-.94-.94-2.06-.94 2.06-2.06.94z\"/><path d=\"M17.41 7.96l-1.37-1.37c-.4-.4-.92-.59-1.43-.59-.52 0-1.04.2-1.43.59L10.3 9.45l-7.72 7.72c-.78.78-.78 2.05 0 2.83L4 21.41c.39.39.9.59 1.41.59.51 0 1.02-.2 1.41-.59l7.78-7.78 2.81-2.81c.8-.78.8-2.07 0-2.86zM5.41 20L4 18.59l7.72-7.72 1.47 1.35L5.41 20z\"/>\n",
              "  </svg>\n",
              "      </button>\n",
              "      \n",
              "  <style>\n",
              "    .colab-df-container {\n",
              "      display:flex;\n",
              "      flex-wrap:wrap;\n",
              "      gap: 12px;\n",
              "    }\n",
              "\n",
              "    .colab-df-convert {\n",
              "      background-color: #E8F0FE;\n",
              "      border: none;\n",
              "      border-radius: 50%;\n",
              "      cursor: pointer;\n",
              "      display: none;\n",
              "      fill: #1967D2;\n",
              "      height: 32px;\n",
              "      padding: 0 0 0 0;\n",
              "      width: 32px;\n",
              "    }\n",
              "\n",
              "    .colab-df-convert:hover {\n",
              "      background-color: #E2EBFA;\n",
              "      box-shadow: 0px 1px 2px rgba(60, 64, 67, 0.3), 0px 1px 3px 1px rgba(60, 64, 67, 0.15);\n",
              "      fill: #174EA6;\n",
              "    }\n",
              "\n",
              "    [theme=dark] .colab-df-convert {\n",
              "      background-color: #3B4455;\n",
              "      fill: #D2E3FC;\n",
              "    }\n",
              "\n",
              "    [theme=dark] .colab-df-convert:hover {\n",
              "      background-color: #434B5C;\n",
              "      box-shadow: 0px 1px 3px 1px rgba(0, 0, 0, 0.15);\n",
              "      filter: drop-shadow(0px 1px 2px rgba(0, 0, 0, 0.3));\n",
              "      fill: #FFFFFF;\n",
              "    }\n",
              "  </style>\n",
              "\n",
              "      <script>\n",
              "        const buttonEl =\n",
              "          document.querySelector('#df-861dd66f-f7d3-43fa-91b3-dc813920f90a button.colab-df-convert');\n",
              "        buttonEl.style.display =\n",
              "          google.colab.kernel.accessAllowed ? 'block' : 'none';\n",
              "\n",
              "        async function convertToInteractive(key) {\n",
              "          const element = document.querySelector('#df-861dd66f-f7d3-43fa-91b3-dc813920f90a');\n",
              "          const dataTable =\n",
              "            await google.colab.kernel.invokeFunction('convertToInteractive',\n",
              "                                                     [key], {});\n",
              "          if (!dataTable) return;\n",
              "\n",
              "          const docLinkHtml = 'Like what you see? Visit the ' +\n",
              "            '<a target=\"_blank\" href=https://colab.research.google.com/notebooks/data_table.ipynb>data table notebook</a>'\n",
              "            + ' to learn more about interactive tables.';\n",
              "          element.innerHTML = '';\n",
              "          dataTable['output_type'] = 'display_data';\n",
              "          await google.colab.output.renderOutput(dataTable, element);\n",
              "          const docLink = document.createElement('div');\n",
              "          docLink.innerHTML = docLinkHtml;\n",
              "          element.appendChild(docLink);\n",
              "        }\n",
              "      </script>\n",
              "    </div>\n",
              "  </div>\n",
              "  "
            ]
          },
          "metadata": {},
          "execution_count": 29
        }
      ],
      "source": [
        "data"
      ]
    },
    {
      "cell_type": "code",
      "execution_count": null,
      "metadata": {
        "colab": {
          "base_uri": "https://localhost:8080/"
        },
        "id": "fj7e-P3MhG7F",
        "outputId": "bd92d418-0cf7-4ab6-ac4c-ceb658ec8d8d"
      },
      "outputs": [
        {
          "output_type": "execute_result",
          "data": {
            "text/plain": [
              "2020-01-01    52905\n",
              "2021-01-01    54673\n",
              "2022-01-01    56499\n",
              "2023-01-01    58285\n",
              "2024-01-01    60057\n",
              "2025-01-01    61879\n",
              "2026-01-01    63701\n",
              "2027-01-01    65457\n",
              "2028-01-01    67268\n",
              "2029-01-01    68979\n",
              "2030-01-01    70811\n",
              "Freq: AS-JAN, Name: predicted_mean, dtype: int64"
            ]
          },
          "metadata": {},
          "execution_count": 30
        }
      ],
      "source": [
        "rnd_forecast"
      ]
    }
  ],
  "metadata": {
    "colab": {
      "provenance": []
    },
    "kernelspec": {
      "display_name": "Python 3",
      "name": "python3"
    },
    "language_info": {
      "name": "python"
    }
  },
  "nbformat": 4,
  "nbformat_minor": 0
}